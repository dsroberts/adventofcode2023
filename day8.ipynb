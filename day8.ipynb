{
 "cells": [
  {
   "cell_type": "code",
   "execution_count": 1,
   "id": "0841c420-e90a-470d-ba36-a9d6651cbdbd",
   "metadata": {},
   "outputs": [],
   "source": [
    "from util import get_day\n",
    "lines = get_day(8)"
   ]
  },
  {
   "cell_type": "code",
   "execution_count": 2,
   "id": "7e83a40a-8d8d-430f-bef7-211f9955955e",
   "metadata": {},
   "outputs": [],
   "source": [
    "directions={}\n",
    "for l in lines[2:]:\n",
    "    line_arr = l.split()\n",
    "    directions[line_arr[0]] = {'L':line_arr[2].strip(',').strip('('),'R':line_arr[3].strip(')')} "
   ]
  },
  {
   "cell_type": "code",
   "execution_count": 3,
   "id": "d8d13fe8-2a0d-4d23-9932-059b7be24341",
   "metadata": {},
   "outputs": [],
   "source": [
    "sequence=lines[0]"
   ]
  },
  {
   "cell_type": "code",
   "execution_count": 4,
   "id": "a6896ea9-99db-4e97-a8aa-ed8174d504ef",
   "metadata": {},
   "outputs": [
    {
     "data": {
      "text/plain": [
       "12643"
      ]
     },
     "execution_count": 4,
     "metadata": {},
     "output_type": "execute_result"
    }
   ],
   "source": [
    "n='AAA'\n",
    "ctr=0\n",
    "last_list=[]\n",
    "while n != 'ZZZ':\n",
    "    n=directions[n][sequence[ctr%len(sequence)]]\n",
    "    ctr+=1\n",
    "ctr"
   ]
  },
  {
   "cell_type": "code",
   "execution_count": 5,
   "id": "4515d075-fd87-4a7b-ac86-4ad2fb55520d",
   "metadata": {},
   "outputs": [],
   "source": [
    "starters = [ k for k in directions if k.endswith('A') ]"
   ]
  },
  {
   "cell_type": "code",
   "execution_count": 6,
   "id": "6a3e04db-3b86-4f14-ae2c-ae56c2df9214",
   "metadata": {},
   "outputs": [],
   "source": [
    "n_list=starters\n",
    "cycle_lens=[]\n",
    "for i,n in enumerate(n_list):\n",
    "    ctr=0\n",
    "    while not n.endswith('Z'):\n",
    "        n=directions[n][sequence[ctr%len(sequence)]]\n",
    "        ctr+=1\n",
    "    cycle_lens.append(ctr)\n",
    "    "
   ]
  },
  {
   "cell_type": "code",
   "execution_count": 7,
   "id": "930cad7c-c0a4-4ebd-ad7f-3f66dc1288ea",
   "metadata": {},
   "outputs": [
    {
     "data": {
      "text/plain": [
       "[11567, 19637, 15871, 21251, 12643, 19099]"
      ]
     },
     "execution_count": 7,
     "metadata": {},
     "output_type": "execute_result"
    }
   ],
   "source": [
    "cycle_lens"
   ]
  },
  {
   "cell_type": "code",
   "execution_count": 8,
   "id": "89d19ee8-8d98-4e35-ba15-9fe0972f642c",
   "metadata": {},
   "outputs": [
    {
     "name": "stdout",
     "output_type": "stream",
     "text": [
      "11567 43\n",
      "19637 73\n",
      "15871 59\n",
      "21251 79\n",
      "12643 47\n",
      "19099 71\n"
     ]
    }
   ],
   "source": [
    "from math import ceil, sqrt\n",
    "for j in cycle_lens:\n",
    "    for i in range(3,ceil(sqrt(j)),2):\n",
    "        if j%i == 0: print(j,i)"
   ]
  },
  {
   "cell_type": "code",
   "execution_count": 9,
   "id": "c66c5da0-dd7a-461f-af02-48a8df6a9af6",
   "metadata": {},
   "outputs": [
    {
     "data": {
      "text/plain": [
       "48823243223"
      ]
     },
     "execution_count": 9,
     "metadata": {},
     "output_type": "execute_result"
    }
   ],
   "source": [
    "s=1\n",
    "for i in cycle_lens:\n",
    "    s*=int(i/len(sequence))\n",
    "s"
   ]
  },
  {
   "cell_type": "code",
   "execution_count": 10,
   "id": "3d4f97e1-e15a-45b3-a239-3ccb1ffd0b5e",
   "metadata": {},
   "outputs": [
    {
     "data": {
      "text/plain": [
       "13133452426987"
      ]
     },
     "execution_count": 10,
     "metadata": {},
     "output_type": "execute_result"
    }
   ],
   "source": [
    "48823243223*len(sequence)"
   ]
  }
 ],
 "metadata": {
  "kernelspec": {
   "display_name": "Python 3 (ipykernel)",
   "language": "python",
   "name": "python3"
  },
  "language_info": {
   "codemirror_mode": {
    "name": "ipython",
    "version": 3
   },
   "file_extension": ".py",
   "mimetype": "text/x-python",
   "name": "python",
   "nbconvert_exporter": "python",
   "pygments_lexer": "ipython3",
   "version": "3.10.8"
  }
 },
 "nbformat": 4,
 "nbformat_minor": 5
}
