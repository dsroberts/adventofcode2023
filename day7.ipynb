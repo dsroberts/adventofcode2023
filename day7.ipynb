{
 "cells": [
  {
   "cell_type": "code",
   "execution_count": 1,
   "id": "0841c420-e90a-470d-ba36-a9d6651cbdbd",
   "metadata": {},
   "outputs": [],
   "source": [
    "from util import get_day\n",
    "lines = get_day(7)"
   ]
  },
  {
   "cell_type": "code",
   "execution_count": 2,
   "id": "ff7dacd9-2d39-43e0-a23c-c5cc0ab61110",
   "metadata": {},
   "outputs": [],
   "source": [
    "valuedict={ '2':2,'3':3,'4':4,'5':5,'6':6,'7':7,'8':8,'9':9,'T':10,'J':11,'Q':12,'K':13,'A':14}"
   ]
  },
  {
   "cell_type": "code",
   "execution_count": 3,
   "id": "5daa2ef0-0a7a-4161-80be-2ee050630d56",
   "metadata": {},
   "outputs": [],
   "source": [
    "class Hand:\n",
    "    def __init__(self,line):\n",
    "        self.hand=line.split()[0]\n",
    "        self.bid=int(line.split()[1])\n",
    "        \n",
    "    def __lt__(self,other):\n",
    "        h1_set=set(self.hand)\n",
    "        h2_set=set(other.hand)\n",
    "        counts1=max([ self.hand.count(i) for i in h1_set ])\n",
    "        counts2=max([ other.hand.count(i) for i in h2_set ])\n",
    "        if len(h1_set) == len(h2_set):\n",
    "            if counts1 == counts2:\n",
    "                return self.lt_by_high_card(other)    \n",
    "            else:\n",
    "                return counts1 < counts2\n",
    "        else:\n",
    "            return len(h1_set) > len(h2_set)\n",
    "    def lt_by_high_card(self,other):\n",
    "        for i in range(len(self.hand)):\n",
    "            if self.hand[i] != other.hand[i]:\n",
    "                return valuedict[self.hand[i]] < valuedict[other.hand[i]]\n",
    "                "
   ]
  },
  {
   "cell_type": "code",
   "execution_count": 4,
   "id": "c873d5a9-70ee-407e-9c94-bd2eb6de8ec1",
   "metadata": {},
   "outputs": [
    {
     "data": {
      "text/plain": [
       "253313241"
      ]
     },
     "execution_count": 4,
     "metadata": {},
     "output_type": "execute_result"
    }
   ],
   "source": [
    "s=0\n",
    "for i,h in enumerate(sorted([ Hand(l) for l in lines])):\n",
    "    s+=(i+1)*h.bid\n",
    "s"
   ]
  },
  {
   "cell_type": "code",
   "execution_count": 5,
   "id": "ded068e7-22d1-46af-93ce-fdf5d358f881",
   "metadata": {},
   "outputs": [],
   "source": [
    "valuedict={ '2':2,'3':3,'4':4,'5':5,'6':6,'7':7,'8':8,'9':9,'T':10,'J':1,'Q':12,'K':13,'A':14}"
   ]
  },
  {
   "cell_type": "code",
   "execution_count": 6,
   "id": "6016a66d-e6af-4a75-ba9f-ff5c674f8b38",
   "metadata": {},
   "outputs": [],
   "source": [
    "class Hand_Js_Wild:\n",
    "    def __init__(self,line):\n",
    "        self.hand=line.split()[0]\n",
    "        self.bid=int(line.split()[1])\n",
    "        \n",
    "    def __lt__(self,other):\n",
    "        h1_set=set(self.hand)\n",
    "        h1_set.discard('J')\n",
    "        if not h1_set: h1_set = {'J'}\n",
    "        h2_set=set(other.hand)\n",
    "        h2_set.discard('J')\n",
    "        if not h2_set: h2_set = {'J'}\n",
    "        counts1=max([ self.hand.count(i) for i in h1_set if i != 'J' ] + [0])+self.hand.count('J')\n",
    "        counts2=max([ other.hand.count(i) for i in h2_set if i != 'J' ]+ [0])+other.hand.count('J')\n",
    "        if len(h1_set) == len(h2_set):\n",
    "            if counts1 == counts2:\n",
    "                return self.lt_by_high_card(other)    \n",
    "            else:\n",
    "                return counts1 < counts2\n",
    "        else:\n",
    "            return len(h1_set) > len(h2_set)\n",
    "    def lt_by_high_card(self,other):\n",
    "        for i in range(len(self.hand)):\n",
    "            if self.hand[i] != other.hand[i]:\n",
    "                return valuedict[self.hand[i]] < valuedict[other.hand[i]]\n",
    "             "
   ]
  },
  {
   "cell_type": "code",
   "execution_count": 7,
   "id": "e6089b94-3474-43e8-9397-a4259ae1a18c",
   "metadata": {},
   "outputs": [
    {
     "data": {
      "text/plain": [
       "253362743"
      ]
     },
     "execution_count": 7,
     "metadata": {},
     "output_type": "execute_result"
    }
   ],
   "source": [
    "s=0\n",
    "for i,h in enumerate(sorted([ Hand_Js_Wild(l) for l in lines])):\n",
    "    s+=(i+1)*h.bid\n",
    "s"
   ]
  }
 ],
 "metadata": {
  "kernelspec": {
   "display_name": "Python 3 (ipykernel)",
   "language": "python",
   "name": "python3"
  },
  "language_info": {
   "codemirror_mode": {
    "name": "ipython",
    "version": 3
   },
   "file_extension": ".py",
   "mimetype": "text/x-python",
   "name": "python",
   "nbconvert_exporter": "python",
   "pygments_lexer": "ipython3",
   "version": "3.10.8"
  }
 },
 "nbformat": 4,
 "nbformat_minor": 5
}
