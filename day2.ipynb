{
 "cells": [
  {
   "cell_type": "code",
   "execution_count": 1,
   "id": "0841c420-e90a-470d-ba36-a9d6651cbdbd",
   "metadata": {},
   "outputs": [],
   "source": [
    "from util import get_day\n",
    "lines = get_day(2)"
   ]
  },
  {
   "cell_type": "code",
   "execution_count": 2,
   "id": "22d16b93-c1bb-41b4-aeba-ede1f827f331",
   "metadata": {},
   "outputs": [],
   "source": [
    "limits={'red':12,'green':13,'blue':14}"
   ]
  },
  {
   "cell_type": "code",
   "execution_count": 3,
   "id": "52b6d3b8-7fb3-4f54-adda-4e93aec16097",
   "metadata": {},
   "outputs": [],
   "source": [
    "def allowed(arr,limits):\n",
    "    a=[]\n",
    "    for i in arr:\n",
    "        a.extend(i.split('; '))\n",
    "    for t in a:\n",
    "        count,colour = t.split()\n",
    "        count=int(count)\n",
    "        if count > limits[colour]:\n",
    "            return False\n",
    "    return True"
   ]
  },
  {
   "cell_type": "code",
   "execution_count": 4,
   "id": "5f9eb26d-d3a6-46a0-877d-7924cd670035",
   "metadata": {},
   "outputs": [
    {
     "data": {
      "text/plain": [
       "'Game 1: 1 red, 3 blue, 11 green; 1 blue, 5 red; 3 blue, 5 green, 13 red; 6 red, 1 blue, 4 green; 16 red, 12 green'"
      ]
     },
     "execution_count": 4,
     "metadata": {},
     "output_type": "execute_result"
    }
   ],
   "source": [
    "lines[0]"
   ]
  },
  {
   "cell_type": "code",
   "execution_count": 5,
   "id": "5aba1f01-2226-41d8-a5f9-85eb2b1840dc",
   "metadata": {},
   "outputs": [
    {
     "data": {
      "text/plain": [
       "1931"
      ]
     },
     "execution_count": 5,
     "metadata": {},
     "output_type": "execute_result"
    }
   ],
   "source": [
    "s=0\n",
    "for l in lines:\n",
    "    l_arr = l.split(', ')\n",
    "    id = int(l_arr[0].split()[1][:-1])\n",
    "    if allowed([ l_arr[0].split(': ')[1] ] + l_arr[1:],limits):\n",
    "        s+=id\n",
    "s"
   ]
  },
  {
   "cell_type": "code",
   "execution_count": 6,
   "id": "7be3dedc-1c29-487f-8978-e87c76c22d54",
   "metadata": {},
   "outputs": [],
   "source": [
    "def power(arr):\n",
    "    d={'blue':0,'red':0,'green':0}\n",
    "    a=[]\n",
    "    for i in arr:\n",
    "        a.extend(i.split('; '))\n",
    "    for t in a:\n",
    "        count,colour = t.split()\n",
    "        count=int(count)\n",
    "        if count > d[colour]:\n",
    "            d[colour]=count\n",
    "    return d['blue']*d['red']*d['green']"
   ]
  },
  {
   "cell_type": "code",
   "execution_count": 7,
   "id": "b3376146-90f5-4d98-ad58-2aec571314a8",
   "metadata": {},
   "outputs": [
    {
     "data": {
      "text/plain": [
       "83105"
      ]
     },
     "execution_count": 7,
     "metadata": {},
     "output_type": "execute_result"
    }
   ],
   "source": [
    "s=0\n",
    "for l in lines:\n",
    "    l_arr = l.split(', ')\n",
    "    s+=power([ l_arr[0].split(': ')[1] ] + l_arr[1:])\n",
    "s"
   ]
  }
 ],
 "metadata": {
  "kernelspec": {
   "display_name": "Python 3 (ipykernel)",
   "language": "python",
   "name": "python3"
  },
  "language_info": {
   "codemirror_mode": {
    "name": "ipython",
    "version": 3
   },
   "file_extension": ".py",
   "mimetype": "text/x-python",
   "name": "python",
   "nbconvert_exporter": "python",
   "pygments_lexer": "ipython3",
   "version": "3.10.8"
  }
 },
 "nbformat": 4,
 "nbformat_minor": 5
}
