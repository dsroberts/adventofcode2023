{
 "cells": [
  {
   "cell_type": "code",
   "execution_count": 1,
   "id": "0841c420-e90a-470d-ba36-a9d6651cbdbd",
   "metadata": {},
   "outputs": [],
   "source": [
    "from util import get_day\n",
    "lines = get_day(1)"
   ]
  },
  {
   "cell_type": "code",
   "execution_count": 2,
   "id": "11260cb2-a11b-4bab-b40a-b2aba1649a50",
   "metadata": {},
   "outputs": [],
   "source": [
    "s=0\n",
    "for l in lines:\n",
    "    ### forward\n",
    "    for c in l:\n",
    "        if c.isdigit():\n",
    "            s+=10*int(c)\n",
    "            break\n",
    "    for c in reversed(l):\n",
    "        if c.isdigit():\n",
    "            s+=int(c)\n",
    "            break"
   ]
  },
  {
   "cell_type": "code",
   "execution_count": 3,
   "id": "2119eaf6-dd3d-4dc1-91ad-2f9937ac852a",
   "metadata": {},
   "outputs": [
    {
     "data": {
      "text/plain": [
       "54940"
      ]
     },
     "execution_count": 3,
     "metadata": {},
     "output_type": "execute_result"
    }
   ],
   "source": [
    "s"
   ]
  },
  {
   "cell_type": "code",
   "execution_count": 4,
   "id": "8d0d1dc5-4684-4fb6-8c6f-0d160438daf2",
   "metadata": {},
   "outputs": [],
   "source": [
    "numbers = [ 'one', 'two', 'three', 'four', 'five', 'six', 'seven', 'eight', 'nine' ]\n",
    "rnumbers = [ i[::-1] for i in numbers ]"
   ]
  },
  {
   "cell_type": "code",
   "execution_count": 5,
   "id": "55d91cbe-901c-4060-b5bf-5055cf4402c1",
   "metadata": {},
   "outputs": [],
   "source": [
    "def find_digit(l,numbers):\n",
    "    for i,c in enumerate(l):\n",
    "        if c.isdigit():\n",
    "            return int(c)\n",
    "        for j,n in enumerate(numbers):\n",
    "            if l[i:i+len(n)] == n:\n",
    "                return(j+1)"
   ]
  },
  {
   "cell_type": "code",
   "execution_count": 6,
   "id": "189051cc-d119-4384-bde4-b0e55f2417ab",
   "metadata": {},
   "outputs": [],
   "source": [
    "s=0\n",
    "for l in lines:\n",
    "    s+=10*find_digit(l,numbers)+find_digit(l[::-1],rnumbers)"
   ]
  },
  {
   "cell_type": "code",
   "execution_count": 7,
   "id": "44d47c10-8bf4-4445-acc9-3fbd0a62a384",
   "metadata": {},
   "outputs": [
    {
     "data": {
      "text/plain": [
       "'15nine1'"
      ]
     },
     "execution_count": 7,
     "metadata": {},
     "output_type": "execute_result"
    }
   ],
   "source": [
    "l"
   ]
  }
 ],
 "metadata": {
  "kernelspec": {
   "display_name": "Python 3 (ipykernel)",
   "language": "python",
   "name": "python3"
  },
  "language_info": {
   "codemirror_mode": {
    "name": "ipython",
    "version": 3
   },
   "file_extension": ".py",
   "mimetype": "text/x-python",
   "name": "python",
   "nbconvert_exporter": "python",
   "pygments_lexer": "ipython3",
   "version": "3.10.8"
  }
 },
 "nbformat": 4,
 "nbformat_minor": 5
}
