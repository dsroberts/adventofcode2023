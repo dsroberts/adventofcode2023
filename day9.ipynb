{
 "cells": [
  {
   "cell_type": "code",
   "execution_count": 1,
   "id": "0841c420-e90a-470d-ba36-a9d6651cbdbd",
   "metadata": {},
   "outputs": [],
   "source": [
    "from util import get_day, submit_answer\n",
    "lines = get_day(9)"
   ]
  },
  {
   "cell_type": "code",
   "execution_count": 2,
   "id": "50ca26e5-eff7-4498-b1b3-ec22ed287faa",
   "metadata": {},
   "outputs": [],
   "source": [
    "#lines=[\"0 3 6 9 12 15\",\"1 3 6 10 15 21\",\"10 13 16 21 30 45\"]"
   ]
  },
  {
   "cell_type": "code",
   "execution_count": 3,
   "id": "541f3785-57a7-4972-b6bb-0580d4697fa9",
   "metadata": {},
   "outputs": [
    {
     "data": {
      "text/plain": [
       "1637452029"
      ]
     },
     "execution_count": 3,
     "metadata": {},
     "output_type": "execute_result"
    }
   ],
   "source": [
    "s=0\n",
    "for l in lines:\n",
    "    l=[ int(i) for i in l.split() ]\n",
    "    next_lines=[ l ]\n",
    "    while not all( [ i==0 for i in next_lines[-1] ] ):\n",
    "        next_lines.append([ next_lines[-1][i] - next_lines[-1][i-1] for i in range(1,len(next_lines[-1])) ])\n",
    "    next_lines.reverse()\n",
    "    val=0\n",
    "    for i,l in enumerate(next_lines[:-1]):\n",
    "        val=val+next_lines[i+1][-1]\n",
    "    s+=val\n",
    "s"
   ]
  },
  {
   "cell_type": "code",
   "execution_count": 4,
   "id": "2a77bbaa-081c-446a-9bcd-11b9c0c0175b",
   "metadata": {},
   "outputs": [
    {
     "data": {
      "text/plain": [
       "908"
      ]
     },
     "execution_count": 4,
     "metadata": {},
     "output_type": "execute_result"
    }
   ],
   "source": [
    "s=0\n",
    "for l in lines:\n",
    "    l=[ int(i) for i in l.split() ]\n",
    "    next_lines=[ l ]\n",
    "    while not all( [ i==0 for i in next_lines[-1] ] ):\n",
    "        next_lines.append([ next_lines[-1][i] - next_lines[-1][i-1] for i in range(1,len(next_lines[-1])) ])\n",
    "    next_lines.reverse()\n",
    "    val=0\n",
    "    for i,l in enumerate(next_lines[:-1]):\n",
    "        val=next_lines[i+1][0]-val\n",
    "    s+=val\n",
    "s"
   ]
  }
 ],
 "metadata": {
  "kernelspec": {
   "display_name": "Python 3 (ipykernel)",
   "language": "python",
   "name": "python3"
  },
  "language_info": {
   "codemirror_mode": {
    "name": "ipython",
    "version": 3
   },
   "file_extension": ".py",
   "mimetype": "text/x-python",
   "name": "python",
   "nbconvert_exporter": "python",
   "pygments_lexer": "ipython3",
   "version": "3.10.8"
  }
 },
 "nbformat": 4,
 "nbformat_minor": 5
}
