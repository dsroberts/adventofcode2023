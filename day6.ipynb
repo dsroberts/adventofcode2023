{
 "cells": [
  {
   "cell_type": "code",
   "execution_count": 1,
   "id": "0841c420-e90a-470d-ba36-a9d6651cbdbd",
   "metadata": {},
   "outputs": [],
   "source": [
    "from util import get_day\n",
    "lines = get_day(6)"
   ]
  },
  {
   "cell_type": "code",
   "execution_count": 2,
   "id": "1ba86a29-56b0-448f-85f2-77d1e81163b3",
   "metadata": {},
   "outputs": [
    {
     "name": "stdout",
     "output_type": "stream",
     "text": [
      "0 Time:        44     82     69     81\n",
      "1 Distance:   202   1076   1138   1458\n"
     ]
    }
   ],
   "source": [
    "for i,l in enumerate(lines):\n",
    "    print(f\"{i} {l}\")"
   ]
  },
  {
   "cell_type": "code",
   "execution_count": 3,
   "id": "ed7bdfcb-b8c1-4ec1-830e-a440760383c2",
   "metadata": {},
   "outputs": [],
   "source": [
    "### t_hold = -(t_total +- sqrt( t_total^2 - 4*d))/-2\n",
    "from math import sqrt, ceil, floor"
   ]
  },
  {
   "cell_type": "code",
   "execution_count": 4,
   "id": "6e5e85bb-9a94-40f5-92a1-6eb25c6d20c1",
   "metadata": {},
   "outputs": [],
   "source": [
    "ts = [ int(i) for i in lines[0].split()[1:] ]\n",
    "ds = [ int(i) for i in lines[1].split()[1:] ]"
   ]
  },
  {
   "cell_type": "code",
   "execution_count": 5,
   "id": "2d5b6883-afa5-4d44-8f90-8d2f18db2101",
   "metadata": {},
   "outputs": [
    {
     "data": {
      "text/plain": [
       "588588"
      ]
     },
     "execution_count": 5,
     "metadata": {},
     "output_type": "execute_result"
    }
   ],
   "source": [
    "s=1\n",
    "for t,d in zip(ts,ds):\n",
    "    s1 = ( - t - sqrt(t**2 -4*d) ) / -2\n",
    "    s2 = ( - t + sqrt(t**2 -4*d) ) / -2\n",
    "    t1 = floor(max(s1,s2))\n",
    "    t2 = ceil(min(s1,s2))\n",
    "    if t1 * ( t - t1 ) == d:\n",
    "        t1-=1\n",
    "        t2+=1\n",
    "    s*=len(range(t2,t1+1))\n",
    "s"
   ]
  },
  {
   "cell_type": "code",
   "execution_count": 6,
   "id": "9f48c3fd-b53a-47b4-8e7b-3757155d2c0a",
   "metadata": {},
   "outputs": [],
   "source": [
    "t=int(''.join( i for i in lines[0].split()[1:] ))\n",
    "d=int(''.join( i for i in lines[1].split()[1:] ))"
   ]
  },
  {
   "cell_type": "code",
   "execution_count": 7,
   "id": "e2b3914d-9629-4247-a7b2-c2f04c9fcd07",
   "metadata": {},
   "outputs": [
    {
     "data": {
      "text/plain": [
       "34655848"
      ]
     },
     "execution_count": 7,
     "metadata": {},
     "output_type": "execute_result"
    }
   ],
   "source": [
    "s1 = ( - t - sqrt(t**2 -4*d) ) / -2\n",
    "s2 = ( - t + sqrt(t**2 -4*d) ) / -2\n",
    "t1 = floor(max(s1,s2))\n",
    "t2 = ceil(min(s1,s2))\n",
    "if t1 * ( t - t1 ) == d:\n",
    "    t1-=1\n",
    "    t2+=1\n",
    "len(range(t2,t1+1))"
   ]
  }
 ],
 "metadata": {
  "kernelspec": {
   "display_name": "Python 3 (ipykernel)",
   "language": "python",
   "name": "python3"
  },
  "language_info": {
   "codemirror_mode": {
    "name": "ipython",
    "version": 3
   },
   "file_extension": ".py",
   "mimetype": "text/x-python",
   "name": "python",
   "nbconvert_exporter": "python",
   "pygments_lexer": "ipython3",
   "version": "3.10.8"
  }
 },
 "nbformat": 4,
 "nbformat_minor": 5
}
