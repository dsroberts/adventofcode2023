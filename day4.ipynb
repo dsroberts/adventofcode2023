{
 "cells": [
  {
   "cell_type": "code",
   "execution_count": 1,
   "id": "0841c420-e90a-470d-ba36-a9d6651cbdbd",
   "metadata": {},
   "outputs": [],
   "source": [
    "from util import get_day\n",
    "lines = get_day(4)"
   ]
  },
  {
   "cell_type": "code",
   "execution_count": 2,
   "id": "557fcd9d-8fe2-48fd-91e5-0162e75f3e35",
   "metadata": {},
   "outputs": [
    {
     "data": {
      "text/plain": [
       "17803"
      ]
     },
     "execution_count": 2,
     "metadata": {},
     "output_type": "execute_result"
    }
   ],
   "source": [
    "s=0\n",
    "for l in lines:\n",
    "    e=-1\n",
    "    a1,a2 = l.split('|')\n",
    "    winners=a1.split()[2:]\n",
    "    ticket=a2.split()\n",
    "    for i in winners:\n",
    "        if i in ticket:\n",
    "            e+=1\n",
    "    if e>=0:\n",
    "        s+=2**e\n",
    "s"
   ]
  },
  {
   "cell_type": "code",
   "execution_count": 3,
   "id": "ed57cdba-7b38-40e2-81cd-06f561dd76b9",
   "metadata": {},
   "outputs": [],
   "source": [
    "copies=[ 1 ] * len(lines)\n",
    "for i,l in enumerate(lines):\n",
    "    m=0\n",
    "    a1,a2 = l.split('|')\n",
    "    winners=a1.split()[2:]\n",
    "    ticket=a2.split()\n",
    "    for j in winners:\n",
    "        if j in ticket:\n",
    "            m+=1\n",
    "    for j in range(i+1,i+m+1):\n",
    "        copies[j]+=copies[i]"
   ]
  },
  {
   "cell_type": "code",
   "execution_count": 4,
   "id": "3aad0a0f-e4e6-4ab7-a0bf-d785cda86721",
   "metadata": {},
   "outputs": [
    {
     "data": {
      "text/plain": [
       "5554894"
      ]
     },
     "execution_count": 4,
     "metadata": {},
     "output_type": "execute_result"
    }
   ],
   "source": [
    "sum(copies)"
   ]
  }
 ],
 "metadata": {
  "kernelspec": {
   "display_name": "Python 3 (ipykernel)",
   "language": "python",
   "name": "python3"
  },
  "language_info": {
   "codemirror_mode": {
    "name": "ipython",
    "version": 3
   },
   "file_extension": ".py",
   "mimetype": "text/x-python",
   "name": "python",
   "nbconvert_exporter": "python",
   "pygments_lexer": "ipython3",
   "version": "3.10.8"
  }
 },
 "nbformat": 4,
 "nbformat_minor": 5
}
