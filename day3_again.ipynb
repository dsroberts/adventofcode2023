{
 "cells": [
  {
   "cell_type": "code",
   "execution_count": 1,
   "id": "fa4a908d-5b9f-42af-a98a-949fb0bb5757",
   "metadata": {},
   "outputs": [],
   "source": [
    "from util import get_day\n",
    "lines = get_day(3)"
   ]
  },
  {
   "cell_type": "code",
   "execution_count": 4,
   "id": "23804bfb-bf37-4bbe-8a0d-1d971ba66e5b",
   "metadata": {},
   "outputs": [
    {
     "data": {
      "text/plain": [
       "82301120"
      ]
     },
     "execution_count": 4,
     "metadata": {},
     "output_type": "execute_result"
    }
   ],
   "source": [
    "s=0\n",
    "for il,l in enumerate(lines):\n",
    "    for ic,c in enumerate(l):\n",
    "        if c == '*':\n",
    "            coords = set()\n",
    "            for jl in range(il-1,il+2):\n",
    "                for jc in range(ic-1,ic+2):\n",
    "                    if jl >= 0 and jl < len(lines) and jc >= 0 and jc < len(l) and lines[jl][jc].isdigit():\n",
    "                        kc = jc\n",
    "                        while kc >= 0 and lines[jl][kc].isdigit(): kc-=1\n",
    "                        coords.add((jl,kc+1))\n",
    "            t=1\n",
    "            if len(coords) == 2:\n",
    "                for coord in coords:\n",
    "                    jc=coord[1]\n",
    "                    while jc<len(lines[coord[0]]) and lines[coord[0]][jc].isdigit(): jc+=1\n",
    "                    t*=int(lines[coord[0]][coord[1]:jc])\n",
    "                s+=t\n",
    "s"
   ]
  }
 ],
 "metadata": {
  "kernelspec": {
   "display_name": "Python 3 (ipykernel)",
   "language": "python",
   "name": "python3"
  },
  "language_info": {
   "codemirror_mode": {
    "name": "ipython",
    "version": 3
   },
   "file_extension": ".py",
   "mimetype": "text/x-python",
   "name": "python",
   "nbconvert_exporter": "python",
   "pygments_lexer": "ipython3",
   "version": "3.10.8"
  }
 },
 "nbformat": 4,
 "nbformat_minor": 5
}
