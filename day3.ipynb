{
 "cells": [
  {
   "cell_type": "code",
   "execution_count": 1,
   "id": "fa4a908d-5b9f-42af-a98a-949fb0bb5757",
   "metadata": {},
   "outputs": [],
   "source": [
    "import requests"
   ]
  },
  {
   "cell_type": "code",
   "execution_count": 2,
   "id": "0841c420-e90a-470d-ba36-a9d6651cbdbd",
   "metadata": {},
   "outputs": [],
   "source": [
    "cookies = {'session':'53616c7465645f5fbd370894989af362f660f22fbd1941f01143a16174988907f10bb900d8dab8b63cce8bdfe6774d25c076b9125441aca309246ccd40e0c85e'}"
   ]
  },
  {
   "cell_type": "code",
   "execution_count": 3,
   "id": "7cafe931-bf57-4758-bdc6-69b902137a4b",
   "metadata": {},
   "outputs": [],
   "source": [
    "r = requests.get(\"https://adventofcode.com/2023/day/3/input\",cookies=cookies)"
   ]
  },
  {
   "cell_type": "code",
   "execution_count": 4,
   "id": "18fbb5a4-0865-4394-b5a8-4ce640653611",
   "metadata": {},
   "outputs": [],
   "source": [
    "lines = r.text.split('\\n')"
   ]
  },
  {
   "cell_type": "code",
   "execution_count": 5,
   "id": "50fd432c-bd76-42aa-b592-b9d305448093",
   "metadata": {},
   "outputs": [],
   "source": [
    "lines=lines[:-1]"
   ]
  },
  {
   "cell_type": "code",
   "execution_count": 6,
   "id": "ceb3c3d6-5220-4feb-add4-53e9bea96c88",
   "metadata": {},
   "outputs": [],
   "source": [
    "def isvalid(line,lineup,linedown,str_start,str_end):\n",
    "    start=max(0,str_start-1)\n",
    "    end=min(str_end+1,len(line))\n",
    "    for l in ( lineup, line, linedown ):\n",
    "        if not l: continue\n",
    "        for j in range(start,end):\n",
    "            if not l[j].isdigit() and not l[j] == \".\":\n",
    "                return True\n",
    "    return False"
   ]
  },
  {
   "cell_type": "code",
   "execution_count": 7,
   "id": "2089665e-c16b-4268-ae83-1d2b9bdef085",
   "metadata": {},
   "outputs": [],
   "source": [
    "s=0\n",
    "for i,l in enumerate(lines):\n",
    "    j=0\n",
    "    #for j,c in enumerate(l):\n",
    "    while j < len(l):\n",
    "        if l[j].isdigit():\n",
    "            ### Found a number... advance\n",
    "            k=j\n",
    "            while k < len(l) and l[k].isdigit():\n",
    "                k+=1\n",
    "            val=False\n",
    "            if i == 0:\n",
    "                val=isvalid(l,None,lines[i+1],j,k)\n",
    "            elif i == len(lines)-1:\n",
    "                val=isvalid(l,lines[i-1],None,j,k)\n",
    "            else:\n",
    "                val=isvalid(l,lines[i-1],lines[i+1],j,k)\n",
    "            if val:\n",
    "                s+=int(l[j:k])\n",
    "            j=k\n",
    "        else:\n",
    "            j+=1\n",
    "            "
   ]
  },
  {
   "cell_type": "code",
   "execution_count": 8,
   "id": "4af3773c-be4c-4827-8427-c444781fa4e9",
   "metadata": {},
   "outputs": [
    {
     "data": {
      "text/plain": [
       "532331"
      ]
     },
     "execution_count": 8,
     "metadata": {},
     "output_type": "execute_result"
    }
   ],
   "source": [
    "s"
   ]
  },
  {
   "cell_type": "code",
   "execution_count": 9,
   "id": "09852afa-f680-4aa3-92c0-40c622242df4",
   "metadata": {},
   "outputs": [],
   "source": [
    "def isvalid_star_coords(line,lineup,linedown,str_start,str_end,line_no):\n",
    "    global star_coords\n",
    "    \n",
    "    start=max(0,str_start-1)\n",
    "    end=min(str_end+1,len(line))\n",
    "    for i,l in ( (line_no-1,lineup), (line_no,line), (line_no+1,linedown) ):\n",
    "        if not l: continue\n",
    "        for j in range(start,end):\n",
    "            if not l[j].isdigit() and not l[j] == \".\":\n",
    "                if l[j] == '*':\n",
    "                    star_coords.append((i,j))\n",
    "    return False"
   ]
  },
  {
   "cell_type": "code",
   "execution_count": 10,
   "id": "11d57d4d-21da-4b85-afd8-f0ae4f0385b2",
   "metadata": {},
   "outputs": [],
   "source": [
    "part_nos = {}\n",
    "coords_counter={}\n",
    "star_coords=[]\n",
    "for i,l in enumerate(lines):\n",
    "    j=0\n",
    "    #for j,c in enumerate(l):\n",
    "    while j < len(l):\n",
    "        old_len = len(star_coords)\n",
    "        if l[j].isdigit():\n",
    "            ### Found a number... advance\n",
    "            k=j\n",
    "            while k < len(l) and l[k].isdigit():\n",
    "                k+=1\n",
    "            val=False\n",
    "            if i == 0:\n",
    "                val=isvalid_star_coords(l,None,lines[i+1],j,k,i)\n",
    "            elif i == len(lines)-1:\n",
    "                val=isvalid_star_coords(l,lines[i-1],None,j,k,i)\n",
    "            else:\n",
    "                val=isvalid_star_coords(l,lines[i-1],lines[i+1],j,k,i)\n",
    "            if len(star_coords) > old_len:\n",
    "                try:\n",
    "                    part_nos[star_coords[-1]]*=int(l[j:k])\n",
    "                except:\n",
    "                    part_nos[star_coords[-1]]=int(l[j:k])\n",
    "            j=k\n",
    "        else:\n",
    "            j+=1"
   ]
  },
  {
   "cell_type": "code",
   "execution_count": 11,
   "id": "9ee3fcab-9137-40be-8816-cdadc75b6623",
   "metadata": {},
   "outputs": [
    {
     "data": {
      "text/plain": [
       "82301120"
      ]
     },
     "execution_count": 11,
     "metadata": {},
     "output_type": "execute_result"
    }
   ],
   "source": [
    "from collections import Counter\n",
    "s=0\n",
    "counts = Counter(star_coords)\n",
    "for k,v in part_nos.items():\n",
    "    if counts[k] == 2:\n",
    "        s+=v\n",
    "s"
   ]
  }
 ],
 "metadata": {
  "kernelspec": {
   "display_name": "Python 3 (ipykernel)",
   "language": "python",
   "name": "python3"
  },
  "language_info": {
   "codemirror_mode": {
    "name": "ipython",
    "version": 3
   },
   "file_extension": ".py",
   "mimetype": "text/x-python",
   "name": "python",
   "nbconvert_exporter": "python",
   "pygments_lexer": "ipython3",
   "version": "3.10.8"
  }
 },
 "nbformat": 4,
 "nbformat_minor": 5
}
